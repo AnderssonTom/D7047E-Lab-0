{
  "nbformat": 4,
  "nbformat_minor": 0,
  "metadata": {
    "colab": {
      "provenance": [],
      "gpuType": "T4",
      "authorship_tag": "ABX9TyPjcwV5/uq5Y9k9COHVPM3J",
      "include_colab_link": true
    },
    "kernelspec": {
      "name": "python3",
      "display_name": "Python 3"
    },
    "language_info": {
      "name": "python"
    },
    "accelerator": "GPU"
  },
  "cells": [
    {
      "cell_type": "markdown",
      "metadata": {
        "id": "view-in-github",
        "colab_type": "text"
      },
      "source": [
        "<a href=\"https://colab.research.google.com/github/AnderssonTom/D7047E-Lab-0/blob/main/D7047E_Lab_0_1B_G25.ipynb\" target=\"_parent\"><img src=\"https://colab.research.google.com/assets/colab-badge.svg\" alt=\"Open In Colab\"/></a>"
      ]
    },
    {
      "cell_type": "markdown",
      "source": [
        "#D7047E - Lab 0 - Pratical Task 0.2B (Tanh) - Group 25 (G25) - 2025-03-30\n",
        "Group 25 (lab 0 mandatory): Tom Andersson\n",
        "\n",
        "Group 25 (lab 0 non-mandatory): Antonino Davolos, Christos Michail, Felix Hessinger, Sandra Sandström"
      ],
      "metadata": {
        "id": "53dFLl5jam_J"
      }
    },
    {
      "cell_type": "code",
      "source": [
        "# Training and evaluating a Keras image classification model (Adam optimizer)\n",
        "# Tanh-activation\n",
        "\n",
        "import tensorflow as tf\n",
        "from keras import datasets, layers, models\n",
        "from tensorflow.keras.datasets import cifar10\n",
        "from tensorflow.keras.utils import to_categorical\n",
        "from tensorflow.keras import Input\n",
        "from tensorflow.keras.optimizers import Adam\n",
        "\n",
        "# Load CIFAR-10 data\n",
        "(x_train, y_train), (x_test, y_test) = cifar10.load_data()\n",
        "\n",
        "# Normalize the images to a range of [0, 1]\n",
        "x_train = x_train.astype('float32') / 255.0\n",
        "x_test = x_test.astype('float32') / 255.0\n",
        "\n",
        "# One-hot encode the labels\n",
        "y_train = to_categorical(y_train, 10)\n",
        "y_test = to_categorical(y_test, 10)\n",
        "\n",
        "# Define the model class by subclassing tf.keras.Model\n",
        "class CNNModel(tf.keras.Model):\n",
        "    def __init__(self):\n",
        "        super(CNNModel, self).__init__()\n",
        "\n",
        "        # Define layers\n",
        "        self.conv1 = layers.Conv2D(32, (3, 3), padding='same')\n",
        "        self.tanh1 = layers.Activation('tanh')\n",
        "        self.pool1 = layers.MaxPooling2D((2, 2))\n",
        "\n",
        "        self.conv2 = layers.Conv2D(64, (3, 3), padding='same')\n",
        "        self.tanh2 = layers.Activation('tanh')\n",
        "        self.pool2 = layers.MaxPooling2D((2, 2))\n",
        "\n",
        "        self.conv3 = layers.Conv2D(128, (3, 3), padding='same')\n",
        "        self.tanh3 = layers.Activation('tanh')\n",
        "        self.pool3 = layers.MaxPooling2D((2, 2))\n",
        "\n",
        "        self.flatten = layers.Flatten()\n",
        "\n",
        "        self.fc1 = layers.Dense(256)\n",
        "        self.tanh4 = layers.Activation('tanh')\n",
        "\n",
        "        self.fc2 = layers.Dense(128)\n",
        "        self.tanh5 = layers.Activation('tanh')\n",
        "\n",
        "        self.fc3 = layers.Dense(10, activation='softmax')\n",
        "\n",
        "    def call(self, inputs):\n",
        "        x = self.pool1(self.tanh1(self.conv1(inputs)))\n",
        "        x = self.pool2(self.tanh2(self.conv2(x)))\n",
        "        x = self.pool3(self.tanh3(self.conv3(x)))\n",
        "        x = self.flatten(x)\n",
        "        x = self.tanh4(self.fc1(x))\n",
        "        x = self.tanh5(self.fc2(x))\n",
        "        return self.fc3(x)\n",
        "\n",
        "# Instantiate the model\n",
        "model = CNNModel()\n",
        "\n",
        "# Compile the model with SGD optimizer and a learning rate of 0.01\n",
        "optimizer = Adam(learning_rate=0.001)\n",
        "model.compile(optimizer=optimizer, loss='categorical_crossentropy', metrics=['accuracy'])\n",
        "\n",
        "# Train the model\n",
        "history = model.fit(x_train, y_train, epochs=10, batch_size=16, validation_data=(x_test, y_test))\n",
        "\n",
        "# Evaluate the model on the test set\n",
        "test_loss, test_acc = model.evaluate(x_test, y_test, verbose=2)\n",
        "print(f\"Test accuracy: {test_acc * 100:.2f}%\")\n"
      ],
      "metadata": {
        "colab": {
          "base_uri": "https://localhost:8080/"
        },
        "id": "If121ykX4tA8",
        "outputId": "9df8864d-a7ef-4273-ee2f-6699b7e5ea8a"
      },
      "execution_count": 4,
      "outputs": [
        {
          "output_type": "stream",
          "name": "stdout",
          "text": [
            "Epoch 1/10\n",
            "\u001b[1m3125/3125\u001b[0m \u001b[32m━━━━━━━━━━━━━━━━━━━━\u001b[0m\u001b[37m\u001b[0m \u001b[1m17s\u001b[0m 4ms/step - accuracy: 0.4704 - loss: 1.4786 - val_accuracy: 0.6358 - val_loss: 1.0446\n",
            "Epoch 2/10\n",
            "\u001b[1m3125/3125\u001b[0m \u001b[32m━━━━━━━━━━━━━━━━━━━━\u001b[0m\u001b[37m\u001b[0m \u001b[1m13s\u001b[0m 4ms/step - accuracy: 0.6712 - loss: 0.9269 - val_accuracy: 0.6695 - val_loss: 0.9447\n",
            "Epoch 3/10\n",
            "\u001b[1m3125/3125\u001b[0m \u001b[32m━━━━━━━━━━━━━━━━━━━━\u001b[0m\u001b[37m\u001b[0m \u001b[1m19s\u001b[0m 4ms/step - accuracy: 0.7274 - loss: 0.7816 - val_accuracy: 0.6974 - val_loss: 0.8814\n",
            "Epoch 4/10\n",
            "\u001b[1m3125/3125\u001b[0m \u001b[32m━━━━━━━━━━━━━━━━━━━━\u001b[0m\u001b[37m\u001b[0m \u001b[1m13s\u001b[0m 4ms/step - accuracy: 0.7668 - loss: 0.6715 - val_accuracy: 0.6922 - val_loss: 0.9102\n",
            "Epoch 5/10\n",
            "\u001b[1m3125/3125\u001b[0m \u001b[32m━━━━━━━━━━━━━━━━━━━━\u001b[0m\u001b[37m\u001b[0m \u001b[1m12s\u001b[0m 4ms/step - accuracy: 0.7873 - loss: 0.6054 - val_accuracy: 0.6970 - val_loss: 0.9102\n",
            "Epoch 6/10\n",
            "\u001b[1m3125/3125\u001b[0m \u001b[32m━━━━━━━━━━━━━━━━━━━━\u001b[0m\u001b[37m\u001b[0m \u001b[1m22s\u001b[0m 4ms/step - accuracy: 0.8091 - loss: 0.5501 - val_accuracy: 0.6872 - val_loss: 0.9576\n",
            "Epoch 7/10\n",
            "\u001b[1m3125/3125\u001b[0m \u001b[32m━━━━━━━━━━━━━━━━━━━━\u001b[0m\u001b[37m\u001b[0m \u001b[1m20s\u001b[0m 4ms/step - accuracy: 0.8183 - loss: 0.5192 - val_accuracy: 0.6978 - val_loss: 0.9607\n",
            "Epoch 8/10\n",
            "\u001b[1m3125/3125\u001b[0m \u001b[32m━━━━━━━━━━━━━━━━━━━━\u001b[0m\u001b[37m\u001b[0m \u001b[1m19s\u001b[0m 4ms/step - accuracy: 0.8286 - loss: 0.4877 - val_accuracy: 0.6979 - val_loss: 0.9530\n",
            "Epoch 9/10\n",
            "\u001b[1m3125/3125\u001b[0m \u001b[32m━━━━━━━━━━━━━━━━━━━━\u001b[0m\u001b[37m\u001b[0m \u001b[1m13s\u001b[0m 4ms/step - accuracy: 0.8387 - loss: 0.4620 - val_accuracy: 0.6936 - val_loss: 1.0014\n",
            "Epoch 10/10\n",
            "\u001b[1m3125/3125\u001b[0m \u001b[32m━━━━━━━━━━━━━━━━━━━━\u001b[0m\u001b[37m\u001b[0m \u001b[1m13s\u001b[0m 4ms/step - accuracy: 0.8378 - loss: 0.4602 - val_accuracy: 0.6882 - val_loss: 0.9878\n",
            "313/313 - 2s - 6ms/step - accuracy: 0.6882 - loss: 0.9878\n",
            "Test accuracy: 68.82%\n"
          ]
        }
      ]
    }
  ]
}