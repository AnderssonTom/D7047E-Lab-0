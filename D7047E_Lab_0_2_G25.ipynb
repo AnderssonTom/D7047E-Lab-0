{
  "nbformat": 4,
  "nbformat_minor": 0,
  "metadata": {
    "colab": {
      "provenance": [],
      "gpuType": "T4",
      "authorship_tag": "ABX9TyOmCKBN4an5W/gJAs9iWiiT",
      "include_colab_link": true
    },
    "kernelspec": {
      "name": "python3",
      "display_name": "Python 3"
    },
    "language_info": {
      "name": "python"
    },
    "accelerator": "GPU"
  },
  "cells": [
    {
      "cell_type": "markdown",
      "metadata": {
        "id": "view-in-github",
        "colab_type": "text"
      },
      "source": [
        "<a href=\"https://colab.research.google.com/github/AnderssonTom/D7047E-Lab-0/blob/main/D7047E_Lab_0_2_G25.ipynb\" target=\"_parent\"><img src=\"https://colab.research.google.com/assets/colab-badge.svg\" alt=\"Open In Colab\"/></a>"
      ]
    },
    {
      "cell_type": "markdown",
      "source": [
        "#D7047E - Lab 0 - Pratical Task 0.2 - Group 25 (G25) - 2025-03-30\n",
        "Group 25 (lab 0 mandatory): Tom Andersson\n",
        "\n",
        "Group 25 (lab 0 non-mandatory): Antonino Davolos, Christos Michail, Felix Hessinger, Sandra Sandström"
      ],
      "metadata": {
        "id": "53dFLl5jam_J"
      }
    },
    {
      "cell_type": "markdown",
      "source": [
        "#Practical Task 0.2.1"
      ],
      "metadata": {
        "id": "_ywlSsBDPwx0"
      }
    },
    {
      "cell_type": "code",
      "source": [
        "# EXPERIMENT 1: TRAINING AlexNet ON CIFAR-10\n",
        "\n",
        "import torch\n",
        "import torch.nn as nn\n",
        "import torch.optim as optim\n",
        "import torchvision\n",
        "import torchvision.transforms as transforms\n",
        "from torch.utils.data import DataLoader\n",
        "from torchvision import models\n",
        "\n",
        "# CIFAR-10 transformations for AlexNet\n",
        "transform = transforms.Compose([\n",
        "    transforms.Resize(224),  # Resize images to 224x224 for AlexNet input\n",
        "    transforms.ToTensor(),\n",
        "    transforms.Normalize(mean=[0.485, 0.456, 0.406], std=[0.229, 0.224, 0.225])  # Normalization for pre-trained model\n",
        "])\n",
        "\n",
        "# Loading CIFAR-10 data\n",
        "trainset = torchvision.datasets.CIFAR10(root='./data', train=True, download=True, transform=transform)\n",
        "testset = torchvision.datasets.CIFAR10(root='./data', train=False, download=True, transform=transform)\n",
        "\n",
        "trainloader = DataLoader(trainset, batch_size=64, shuffle=True)\n",
        "testloader = DataLoader(testset, batch_size=64, shuffle=False)"
      ],
      "metadata": {
        "colab": {
          "base_uri": "https://localhost:8080/"
        },
        "id": "If121ykX4tA8",
        "outputId": "da414ddb-1be4-4f84-d493-4aff698b285f"
      },
      "execution_count": 1,
      "outputs": [
        {
          "output_type": "stream",
          "name": "stdout",
          "text": [
            "Downloading https://www.cs.toronto.edu/~kriz/cifar-10-python.tar.gz to ./data/cifar-10-python.tar.gz\n"
          ]
        },
        {
          "output_type": "stream",
          "name": "stderr",
          "text": [
            "100%|██████████| 170M/170M [00:05<00:00, 31.0MB/s]\n"
          ]
        },
        {
          "output_type": "stream",
          "name": "stdout",
          "text": [
            "Extracting ./data/cifar-10-python.tar.gz to ./data\n",
            "Files already downloaded and verified\n"
          ]
        }
      ]
    },
    {
      "cell_type": "code",
      "source": [
        "# Create an AlexNet mode\n",
        "alexnet = models.alexnet(weights=models.AlexNet_Weights.IMAGENET1K_V1)\n",
        "\n",
        "# Number of classes\n",
        "num_classes = 10\n",
        "\n",
        "# Add a fully connected layer with 10 outputs\n",
        "alexnet.classifier[6] = nn.Linear(alexnet.classifier[6].in_features, num_classes)\n",
        "\n",
        "# Check if GPU is available\n",
        "device = torch.device(\"cuda\" if torch.cuda.is_available() else \"cpu\")\n",
        "alexnet = alexnet.to(device)\n",
        "\n",
        "# Loss function and optimizer\n",
        "criterion = nn.CrossEntropyLoss()\n",
        "optimizer = optim.SGD(alexnet.parameters(), lr=0.001, momentum=0.9)\n",
        "\n",
        "# Function to train the model\n",
        "def train_model(model, trainloader, criterion, optimizer, num_epochs=5):\n",
        "    model.train()  # Set model to training mode\n",
        "    for epoch in range(num_epochs):\n",
        "        running_loss = 0.0\n",
        "        correct = 0\n",
        "        total = 0\n",
        "        for inputs, labels in trainloader:\n",
        "            inputs, labels = inputs.to(device), labels.to(device)\n",
        "\n",
        "            # Zero the parameter gradients\n",
        "            optimizer.zero_grad()\n",
        "\n",
        "            # Forward pass\n",
        "            outputs = model(inputs)\n",
        "            loss = criterion(outputs, labels)\n",
        "\n",
        "            # Backward pass and optimize\n",
        "            loss.backward()\n",
        "            optimizer.step()\n",
        "\n",
        "            # Track accuracy\n",
        "            _, predicted = torch.max(outputs.data, 1)\n",
        "            total += labels.size(0)\n",
        "            correct += (predicted == labels).sum().item()\n",
        "\n",
        "        print(f\"Epoch [{epoch+1}/{num_epochs}], Loss: {loss.item():.4f}, Accuracy: {100 * correct / total:.2f}%\")\n",
        "\n",
        "# Function to evaluate the model\n",
        "def evaluate_model(model, testloader):\n",
        "    model.eval()  # Set model to evaluation mode\n",
        "    correct = 0\n",
        "    total = 0\n",
        "    with torch.no_grad():\n",
        "        for inputs, labels in testloader:\n",
        "            inputs, labels = inputs.to(device), labels.to(device)\n",
        "            outputs = model(inputs)\n",
        "            _, predicted = torch.max(outputs.data, 1)\n",
        "            total += labels.size(0)\n",
        "            correct += (predicted == labels).sum().item()\n",
        "\n",
        "    print(f\"Test Accuracy: {100 * correct / total:.2f}%\")\n",
        "\n",
        "# Full model training, fine-tuning the AlexNet model\n",
        "train_model(alexnet, trainloader, criterion, optimizer, num_epochs=5)\n",
        "\n",
        "# Evaluate the model\n",
        "evaluate_model(alexnet, testloader)"
      ],
      "metadata": {
        "colab": {
          "base_uri": "https://localhost:8080/"
        },
        "id": "mt28EZcUtAzH",
        "outputId": "b8e9360d-12ee-4451-b1c7-148d84ff5606"
      },
      "execution_count": 2,
      "outputs": [
        {
          "output_type": "stream",
          "name": "stderr",
          "text": [
            "Downloading: \"https://download.pytorch.org/models/alexnet-owt-7be5be79.pth\" to /root/.cache/torch/hub/checkpoints/alexnet-owt-7be5be79.pth\n",
            "100%|██████████| 233M/233M [00:01<00:00, 124MB/s]\n"
          ]
        },
        {
          "output_type": "stream",
          "name": "stdout",
          "text": [
            "Epoch [1/5], Loss: 0.6980, Accuracy: 79.52%\n",
            "Epoch [2/5], Loss: 0.1771, Accuracy: 86.91%\n",
            "Epoch [3/5], Loss: 0.4929, Accuracy: 89.45%\n",
            "Epoch [4/5], Loss: 0.5600, Accuracy: 90.99%\n",
            "Epoch [5/5], Loss: 0.0721, Accuracy: 92.33%\n",
            "Test Accuracy: 88.95%\n"
          ]
        }
      ]
    },
    {
      "cell_type": "code",
      "source": [
        "# EXPERIMENT 2: APPLY PRE-TRAINED AlexNet TO CIFAR-10\n",
        "\n",
        "# Load AlexNet pre-trained model\n",
        "alexnet = models.alexnet(weights=models.AlexNet_Weights.IMAGENET1K_V1)\n",
        "\n",
        "# Freeze except last classification layer\n",
        "for param in alexnet.features.parameters():\n",
        "    param.requires_grad = False\n",
        "\n",
        "# Change Add a fully connected layer with 10 outputs\n",
        "alexnet.classifier[6] = nn.Linear(alexnet.classifier[6].in_features, num_classes)\n",
        "\n",
        "# Transfer model to device (GPU/CPU)\n",
        "alexnet = alexnet.to(device)\n",
        "\n",
        "# Optimizer for the last layer\n",
        "optimizer = optim.SGD(alexnet.classifier[6].parameters(), lr=0.001, momentum=0.9)\n",
        "\n",
        "# Training the model (Feature Extraction)\n",
        "train_model(alexnet, trainloader, criterion, optimizer, num_epochs=5)\n",
        "\n",
        "# Evaluate\n",
        "evaluate_model(alexnet, testloader)"
      ],
      "metadata": {
        "colab": {
          "base_uri": "https://localhost:8080/"
        },
        "id": "aorMWHo-qAAq",
        "outputId": "610c45f7-e400-477c-fb09-e7bd1e7f0c9f"
      },
      "execution_count": 4,
      "outputs": [
        {
          "output_type": "stream",
          "name": "stdout",
          "text": [
            "Epoch [1/5], Loss: 0.5152, Accuracy: 73.26%\n",
            "Epoch [2/5], Loss: 0.4979, Accuracy: 77.49%\n",
            "Epoch [3/5], Loss: 0.5089, Accuracy: 78.76%\n",
            "Epoch [4/5], Loss: 0.3391, Accuracy: 79.31%\n",
            "Epoch [5/5], Loss: 1.3469, Accuracy: 79.60%\n",
            "Test Accuracy: 82.05%\n"
          ]
        }
      ]
    },
    {
      "cell_type": "markdown",
      "source": [
        "##Key Differences between experiment 1 and 2\n",
        "\n",
        "In experiment 1 (fine-tuning), we train all layers of the AlexNet, all its weights. In experiment 2(feature extraction), we only train the last output layer, making use of pre-trained features/weights for other layers.\n",
        "\n",
        "##Explanation of difference in performance\n",
        "\n",
        "When training the whole net, and not just the last output layer, there are more degress of freedom in training, allowing for a better fit of model and images."
      ],
      "metadata": {
        "id": "y5xQxHcwM3Kg"
      }
    },
    {
      "cell_type": "markdown",
      "source": [
        "#Practical Task 0.2.2"
      ],
      "metadata": {
        "id": "89ZlU-6oP2vI"
      }
    },
    {
      "cell_type": "code",
      "source": [
        "# TRAINING A CNN MODEL ON MNIST IMAGES\n",
        "\n",
        "import tensorflow as tf\n",
        "from tensorflow.keras import layers, models\n",
        "from tensorflow.keras.datasets import mnist\n",
        "from tensorflow.keras.utils import to_categorical\n",
        "\n",
        "# Load and preprocess MNIST data\n",
        "(x_train, y_train), (x_test, y_test) = mnist.load_data()\n",
        "x_train = x_train.reshape(-1, 28, 28, 1).astype('float32') / 255.0\n",
        "x_test = x_test.reshape(-1, 28, 28, 1).astype('float32') / 255.0\n",
        "y_train = to_categorical(y_train, 10)\n",
        "y_test = to_categorical(y_test, 10)\n",
        "\n",
        "# Define CNN model for MNIST\n",
        "def create_cnn(input_shape=(28, 28, 1)):\n",
        "    model = models.Sequential([\n",
        "        layers.Conv2D(32, (3, 3), activation='relu', input_shape=input_shape),\n",
        "        layers.MaxPooling2D((2, 2)),\n",
        "        layers.Conv2D(64, (3, 3), activation='relu'),\n",
        "        layers.MaxPooling2D((2, 2)),\n",
        "        layers.Conv2D(64, (3, 3), activation='relu'),\n",
        "        layers.Flatten(),\n",
        "        layers.Dense(64, activation='relu'),\n",
        "        layers.Dense(10, activation='softmax')\n",
        "    ])\n",
        "    return model\n",
        "\n",
        "# Train model on MNIST\n",
        "mnist_model = create_cnn()\n",
        "mnist_model.compile(optimizer='adam', loss='categorical_crossentropy', metrics=['accuracy'])\n",
        "mnist_model.fit(x_train, y_train, epochs=5, batch_size=32, validation_data=(x_test, y_test))\n",
        "\n",
        "# Evaluate on MNIST\n",
        "test_loss, test_acc = mnist_model.evaluate(x_test, y_test)\n",
        "print(f\"MNIST Test Accuracy: {test_acc:.4f}\")"
      ],
      "metadata": {
        "colab": {
          "base_uri": "https://localhost:8080/"
        },
        "id": "l5Z2VWj_OUI_",
        "outputId": "164fb4e7-cee6-4966-f312-eef93d643f16"
      },
      "execution_count": 4,
      "outputs": [
        {
          "output_type": "stream",
          "name": "stdout",
          "text": [
            "Epoch 1/5\n",
            "\u001b[1m1875/1875\u001b[0m \u001b[32m━━━━━━━━━━━━━━━━━━━━\u001b[0m\u001b[37m\u001b[0m \u001b[1m75s\u001b[0m 39ms/step - accuracy: 0.8875 - loss: 0.3526 - val_accuracy: 0.9861 - val_loss: 0.0436\n",
            "Epoch 2/5\n",
            "\u001b[1m1875/1875\u001b[0m \u001b[32m━━━━━━━━━━━━━━━━━━━━\u001b[0m\u001b[37m\u001b[0m \u001b[1m74s\u001b[0m 34ms/step - accuracy: 0.9843 - loss: 0.0491 - val_accuracy: 0.9877 - val_loss: 0.0383\n",
            "Epoch 3/5\n",
            "\u001b[1m1875/1875\u001b[0m \u001b[32m━━━━━━━━━━━━━━━━━━━━\u001b[0m\u001b[37m\u001b[0m \u001b[1m80s\u001b[0m 33ms/step - accuracy: 0.9898 - loss: 0.0342 - val_accuracy: 0.9883 - val_loss: 0.0329\n",
            "Epoch 4/5\n",
            "\u001b[1m1875/1875\u001b[0m \u001b[32m━━━━━━━━━━━━━━━━━━━━\u001b[0m\u001b[37m\u001b[0m \u001b[1m79s\u001b[0m 32ms/step - accuracy: 0.9923 - loss: 0.0241 - val_accuracy: 0.9912 - val_loss: 0.0254\n",
            "Epoch 5/5\n",
            "\u001b[1m1875/1875\u001b[0m \u001b[32m━━━━━━━━━━━━━━━━━━━━\u001b[0m\u001b[37m\u001b[0m \u001b[1m83s\u001b[0m 33ms/step - accuracy: 0.9944 - loss: 0.0183 - val_accuracy: 0.9900 - val_loss: 0.0329\n",
            "\u001b[1m313/313\u001b[0m \u001b[32m━━━━━━━━━━━━━━━━━━━━\u001b[0m\u001b[37m\u001b[0m \u001b[1m4s\u001b[0m 11ms/step - accuracy: 0.9874 - loss: 0.0395\n",
            "MNIST Test Accuracy: 0.9900\n"
          ]
        }
      ]
    },
    {
      "cell_type": "code",
      "source": [
        "# IMPORTING SVHN IMAGES\n",
        "\n",
        "import requests\n",
        "\n",
        "# URLs for SVHN dataset\n",
        "train_url = \"http://ufldl.stanford.edu/housenumbers/train_32x32.mat\"\n",
        "test_url = \"http://ufldl.stanford.edu/housenumbers/test_32x32.mat\"\n",
        "\n",
        "# Function to download and save file\n",
        "def download_svhn(url, filename):\n",
        "    response = requests.get(url, stream=True)\n",
        "    with open(filename, \"wb\") as file:\n",
        "        for chunk in response.iter_content(chunk_size=1024):\n",
        "            if chunk:\n",
        "                file.write(chunk)\n",
        "    print(f\"Downloaded {filename}\")\n",
        "\n",
        "# Download train and test sets\n",
        "download_svhn(train_url, \"train_32x32.mat\")\n",
        "download_svhn(test_url, \"test_32x32.mat\")"
      ],
      "metadata": {
        "colab": {
          "base_uri": "https://localhost:8080/"
        },
        "id": "H00mW2pzi-wH",
        "outputId": "d34658be-bfee-40e3-d8c9-e34906162b1c"
      },
      "execution_count": 9,
      "outputs": [
        {
          "output_type": "stream",
          "name": "stdout",
          "text": [
            "Downloaded train_32x32.mat\n",
            "Downloaded test_32x32.mat\n"
          ]
        }
      ]
    },
    {
      "cell_type": "code",
      "source": [
        "# APPLYING PRE-TRAINED MODEL/FEATURE EXTRACTION\n",
        "\n",
        "import numpy as np\n",
        "from scipy.io import loadmat\n",
        "\n",
        "# Load the downloaded dataset\n",
        "svhn_train = loadmat(\"train_32x32.mat\")\n",
        "svhn_test = loadmat(\"test_32x32.mat\")\n",
        "\n",
        "# Preprocess SVHN dataset\n",
        "x_train_svhn = np.moveaxis(svhn_train['X'], -1, 0) / 255.0\n",
        "x_test_svhn = np.moveaxis(svhn_test['X'], -1, 0) / 255.0\n",
        "\n",
        "y_train_svhn = to_categorical(svhn_train['y'].flatten() % 10, 10)\n",
        "y_test_svhn = to_categorical(svhn_test['y'].flatten() % 10, 10)\n",
        "\n",
        "# Redefine CNN for SVHN with (32,32,3) input\n",
        "svhn_model = create_cnn(input_shape=(32, 32, 3))\n",
        "\n",
        "# Transfer weights from MNIST model (excluding input layer)\n",
        "for i, layer in enumerate(mnist_model.layers[1:-2]):  # Skip first and last 2 layers\n",
        "    svhn_model.layers[i+1].set_weights(layer.get_weights())\n",
        "    svhn_model.layers[i+1].trainable = False  # Freeze pretrained layers\n",
        "\n",
        "# Compile and train on SVHN\n",
        "svhn_model.compile(optimizer='adam', loss='categorical_crossentropy', metrics=['accuracy'])\n",
        "svhn_model.fit(x_train_svhn, y_train_svhn, epochs=5, batch_size=64, validation_data=(x_test_svhn, y_test_svhn))\n",
        "\n",
        "# Evaluate on SVHN\n",
        "test_loss, test_acc = svhn_model.evaluate(x_test_svhn, y_test_svhn)\n",
        "print(f\"SVHN Test Accuracy: {test_acc:.4f}\")"
      ],
      "metadata": {
        "colab": {
          "base_uri": "https://localhost:8080/"
        },
        "id": "pOh9p2uKg4CF",
        "outputId": "70f0d551-35c8-40b8-b0e1-418dd1b04f8f"
      },
      "execution_count": 7,
      "outputs": [
        {
          "output_type": "stream",
          "name": "stdout",
          "text": [
            "Epoch 1/5\n",
            "\u001b[1m1145/1145\u001b[0m \u001b[32m━━━━━━━━━━━━━━━━━━━━\u001b[0m\u001b[37m\u001b[0m \u001b[1m96s\u001b[0m 82ms/step - accuracy: 0.4426 - loss: 1.6541 - val_accuracy: 0.7487 - val_loss: 0.8907\n",
            "Epoch 2/5\n",
            "\u001b[1m1145/1145\u001b[0m \u001b[32m━━━━━━━━━━━━━━━━━━━━\u001b[0m\u001b[37m\u001b[0m \u001b[1m134s\u001b[0m 75ms/step - accuracy: 0.7685 - loss: 0.7905 - val_accuracy: 0.7750 - val_loss: 0.8034\n",
            "Epoch 3/5\n",
            "\u001b[1m1145/1145\u001b[0m \u001b[32m━━━━━━━━━━━━━━━━━━━━\u001b[0m\u001b[37m\u001b[0m \u001b[1m142s\u001b[0m 75ms/step - accuracy: 0.7963 - loss: 0.6941 - val_accuracy: 0.7853 - val_loss: 0.7652\n",
            "Epoch 4/5\n",
            "\u001b[1m1145/1145\u001b[0m \u001b[32m━━━━━━━━━━━━━━━━━━━━\u001b[0m\u001b[37m\u001b[0m \u001b[1m90s\u001b[0m 79ms/step - accuracy: 0.8147 - loss: 0.6336 - val_accuracy: 0.7986 - val_loss: 0.7163\n",
            "Epoch 5/5\n",
            "\u001b[1m1145/1145\u001b[0m \u001b[32m━━━━━━━━━━━━━━━━━━━━\u001b[0m\u001b[37m\u001b[0m \u001b[1m146s\u001b[0m 82ms/step - accuracy: 0.8264 - loss: 0.5915 - val_accuracy: 0.7857 - val_loss: 0.7481\n",
            "\u001b[1m814/814\u001b[0m \u001b[32m━━━━━━━━━━━━━━━━━━━━\u001b[0m\u001b[37m\u001b[0m \u001b[1m12s\u001b[0m 14ms/step - accuracy: 0.7849 - loss: 0.7576\n",
            "SVHN Test Accuracy: 0.7857\n"
          ]
        }
      ]
    },
    {
      "cell_type": "code",
      "source": [
        "# TRANSFER LEARNING\n",
        "\n",
        "# Unfreeze all layers\n",
        "for layer in svhn_model.layers:\n",
        "    layer.trainable = True  # Allow all weights to be updated\n",
        "\n",
        "# Recompile\n",
        "svhn_model.compile(optimizer='adam', loss='categorical_crossentropy', metrics=['accuracy'])\n",
        "\n",
        "# Train entire model\n",
        "svhn_model.fit(x_train_svhn, y_train_svhn, epochs=5, batch_size=64, validation_data=(x_test_svhn, y_test_svhn))\n",
        "\n",
        "# Evaluate\n",
        "test_loss, test_acc = svhn_model.evaluate(x_test_svhn, y_test_svhn)\n",
        "print(f\"SVHN Test Accuracy: {test_acc:.4f}\")"
      ],
      "metadata": {
        "colab": {
          "base_uri": "https://localhost:8080/"
        },
        "id": "MkX38srhk8r6",
        "outputId": "390aaa91-55a8-4332-cc48-9b023ad61489"
      },
      "execution_count": 8,
      "outputs": [
        {
          "output_type": "stream",
          "name": "stdout",
          "text": [
            "Epoch 1/5\n",
            "\u001b[1m1145/1145\u001b[0m \u001b[32m━━━━━━━━━━━━━━━━━━━━\u001b[0m\u001b[37m\u001b[0m \u001b[1m125s\u001b[0m 106ms/step - accuracy: 0.8306 - loss: 0.5745 - val_accuracy: 0.8306 - val_loss: 0.5934\n",
            "Epoch 2/5\n",
            "\u001b[1m1145/1145\u001b[0m \u001b[32m━━━━━━━━━━━━━━━━━━━━\u001b[0m\u001b[37m\u001b[0m \u001b[1m124s\u001b[0m 91ms/step - accuracy: 0.8641 - loss: 0.4540 - val_accuracy: 0.8532 - val_loss: 0.5203\n",
            "Epoch 3/5\n",
            "\u001b[1m1145/1145\u001b[0m \u001b[32m━━━━━━━━━━━━━━━━━━━━\u001b[0m\u001b[37m\u001b[0m \u001b[1m102s\u001b[0m 89ms/step - accuracy: 0.8813 - loss: 0.3964 - val_accuracy: 0.8583 - val_loss: 0.4880\n",
            "Epoch 4/5\n",
            "\u001b[1m1145/1145\u001b[0m \u001b[32m━━━━━━━━━━━━━━━━━━━━\u001b[0m\u001b[37m\u001b[0m \u001b[1m102s\u001b[0m 89ms/step - accuracy: 0.8941 - loss: 0.3513 - val_accuracy: 0.8660 - val_loss: 0.4658\n",
            "Epoch 5/5\n",
            "\u001b[1m1145/1145\u001b[0m \u001b[32m━━━━━━━━━━━━━━━━━━━━\u001b[0m\u001b[37m\u001b[0m \u001b[1m162s\u001b[0m 107ms/step - accuracy: 0.9027 - loss: 0.3254 - val_accuracy: 0.8691 - val_loss: 0.4644\n",
            "\u001b[1m814/814\u001b[0m \u001b[32m━━━━━━━━━━━━━━━━━━━━\u001b[0m\u001b[37m\u001b[0m \u001b[1m12s\u001b[0m 14ms/step - accuracy: 0.8665 - loss: 0.4776\n",
            "SVHN Test Accuracy: 0.8691\n"
          ]
        }
      ]
    }
  ]
}